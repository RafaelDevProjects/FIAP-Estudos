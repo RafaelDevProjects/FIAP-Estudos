{
  "cells": [
    {
      "attachments": {},
      "cell_type": "markdown",
      "metadata": {
        "id": "KymoYPK1qRcO"
      },
      "source": [
        "## **EQUAÇÕES LOGARÍTMICAS**"
      ]
    },
    {
      "cell_type": "code",
      "execution_count": 1,
      "metadata": {
        "id": "vAyHdmxlSfrG"
      },
      "outputs": [],
      "source": [
        "from sympy import *"
      ]
    },
    {
      "cell_type": "code",
      "execution_count": 2,
      "metadata": {
        "id": "NlJvwrs4TCUf"
      },
      "outputs": [],
      "source": [
        "x = Symbol('x')"
      ]
    },
    {
      "cell_type": "code",
      "execution_count": 5,
      "metadata": {
        "colab": {
          "base_uri": "https://localhost:8080/",
          "height": 37
        },
        "id": "DrGAD_q8j-yS",
        "outputId": "7fe5558b-f2d0-41fd-92f1-e16b5718cd7c"
      },
      "outputs": [
        {
          "data": {
            "text/latex": [
              "$\\displaystyle 4$"
            ],
            "text/plain": [
              "4"
            ]
          },
          "execution_count": 5,
          "metadata": {},
          "output_type": "execute_result"
        }
      ],
      "source": [
        "log(16,2)"
      ]
    },
    {
      "cell_type": "code",
      "execution_count": 10,
      "metadata": {
        "colab": {
          "base_uri": "https://localhost:8080/",
          "height": 37
        },
        "id": "QK0Nw-SzkUPq",
        "outputId": "b435efc5-4145-4e31-b296-2baf47fd5ffd"
      },
      "outputs": [
        {
          "data": {
            "text/latex": [
              "$\\displaystyle 2$"
            ],
            "text/plain": [
              "2"
            ]
          },
          "execution_count": 10,
          "metadata": {},
          "output_type": "execute_result"
        }
      ],
      "source": [
        "log(100,10)"
      ]
    },
    {
      "attachments": {},
      "cell_type": "markdown",
      "metadata": {
        "id": "5a6ZbPxIm4cE"
      },
      "source": [
        "**Logarítmo Natural (neperiano)**"
      ]
    },
    {
      "cell_type": "code",
      "execution_count": 29,
      "metadata": {
        "colab": {
          "base_uri": "https://localhost:8080/",
          "height": 37
        },
        "id": "3I0k8GyWnB67",
        "outputId": "8c0ed13d-2340-4774-999b-04d5a3cee329"
      },
      "outputs": [
        {
          "data": {
            "text/latex": [
              "$\\displaystyle \\log{\\left(5 \\right)}$"
            ],
            "text/plain": [
              "log(5)"
            ]
          },
          "execution_count": 29,
          "metadata": {},
          "output_type": "execute_result"
        }
      ],
      "source": [
        "ln(5)"
      ]
    },
    {
      "cell_type": "code",
      "execution_count": 30,
      "metadata": {
        "colab": {
          "base_uri": "https://localhost:8080/",
          "height": 37
        },
        "id": "eUluyt7NmZ0c",
        "outputId": "3273e5be-f152-45d1-c8d0-45d88d6db55d"
      },
      "outputs": [
        {
          "data": {
            "text/latex": [
              "$\\displaystyle \\log{\\left(5 \\right)}$"
            ],
            "text/plain": [
              "log(5)"
            ]
          },
          "execution_count": 30,
          "metadata": {},
          "output_type": "execute_result"
        }
      ],
      "source": [
        "log(5, E)"
      ]
    },
    {
      "cell_type": "code",
      "execution_count": 19,
      "metadata": {
        "id": "71Ezc_cQlUbY"
      },
      "outputs": [],
      "source": [
        "import math"
      ]
    },
    {
      "cell_type": "code",
      "execution_count": 20,
      "metadata": {
        "colab": {
          "base_uri": "https://localhost:8080/"
        },
        "id": "lzbs8-ISkZXW",
        "outputId": "9c475196-0630-4659-afe9-b85537092c1c"
      },
      "outputs": [
        {
          "data": {
            "text/plain": [
              "1.6094379124341003"
            ]
          },
          "execution_count": 20,
          "metadata": {},
          "output_type": "execute_result"
        }
      ],
      "source": [
        "math.log(5)"
      ]
    },
    {
      "cell_type": "code",
      "execution_count": 31,
      "metadata": {
        "colab": {
          "base_uri": "https://localhost:8080/"
        },
        "id": "e1ROLixHnZI2",
        "outputId": "bd6f6652-f5f4-4451-d905-e30c28a3d536"
      },
      "outputs": [
        {
          "data": {
            "text/plain": [
              "5.0"
            ]
          },
          "execution_count": 31,
          "metadata": {},
          "output_type": "execute_result"
        }
      ],
      "source": [
        "math.log2(32)"
      ]
    },
    {
      "attachments": {},
      "cell_type": "markdown",
      "metadata": {
        "id": "h65woSyJnfmC"
      },
      "source": [
        "**Resolução de equações**"
      ]
    },
    {
      "cell_type": "code",
      "execution_count": 32,
      "metadata": {
        "colab": {
          "base_uri": "https://localhost:8080/"
        },
        "id": "RvnidtNfT4rh",
        "outputId": "e4e81991-5e9b-4ba5-b6b1-125bbe91f3df"
      },
      "outputs": [
        {
          "data": {
            "text/plain": [
              "[8]"
            ]
          },
          "execution_count": 32,
          "metadata": {},
          "output_type": "execute_result"
        }
      ],
      "source": [
        "solve(5*log(x,2)-3*log(x,2)-6)"
      ]
    },
    {
      "cell_type": "code",
      "execution_count": 33,
      "metadata": {
        "colab": {
          "base_uri": "https://localhost:8080/"
        },
        "id": "3b5uvmOZGfn9",
        "outputId": "0ead1c6b-5455-418e-f71b-45ed8a8318c0"
      },
      "outputs": [
        {
          "data": {
            "text/plain": [
              "[1/9]"
            ]
          },
          "execution_count": 33,
          "metadata": {},
          "output_type": "execute_result"
        }
      ],
      "source": [
        "solve(2*log(x,3)-3*log(81,9)-5*log(x,3))"
      ]
    },
    {
      "cell_type": "code",
      "execution_count": 34,
      "metadata": {
        "colab": {
          "base_uri": "https://localhost:8080/"
        },
        "id": "HhYnmnwKS6jc",
        "outputId": "3e85c575-d089-4824-ecef-ca38ef354999"
      },
      "outputs": [
        {
          "data": {
            "text/plain": [
              "[1/2, 16]"
            ]
          },
          "execution_count": 34,
          "metadata": {},
          "output_type": "execute_result"
        }
      ],
      "source": [
        "solve((log(x,2))**2-3*log(x,2)-4)"
      ]
    },
    {
      "cell_type": "code",
      "execution_count": 35,
      "metadata": {
        "colab": {
          "base_uri": "https://localhost:8080/"
        },
        "id": "IwUMt_pRpHNr",
        "outputId": "2b2a27c2-e84a-4c12-f673-53098d9f8f96"
      },
      "outputs": [
        {
          "data": {
            "text/plain": [
              "[1/1000, 1000]"
            ]
          },
          "execution_count": 35,
          "metadata": {},
          "output_type": "execute_result"
        }
      ],
      "source": [
        "solve((log(x,10))**2-9)"
      ]
    }
  ],
  "metadata": {
    "colab": {
      "provenance": []
    },
    "kernelspec": {
      "display_name": "Python 3",
      "name": "python3"
    },
    "language_info": {
      "name": "python"
    }
  },
  "nbformat": 4,
  "nbformat_minor": 0
}
